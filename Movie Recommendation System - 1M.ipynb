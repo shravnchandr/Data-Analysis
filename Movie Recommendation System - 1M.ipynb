{
 "cells": [
  {
   "cell_type": "markdown",
   "metadata": {},
   "source": [
    "Comparison of different algorithms available in Scikit-Surprise Library. The ones used here are Singular Value Decomposition(SVD), Stochastic Gradient Descent(SGD) and Alterating Least Squares(ALS). The dataset used is the movie ratings dataset, which can be found in grouplens.org. The one used here is of size 1M."
   ]
  },
  {
   "cell_type": "code",
   "execution_count": 1,
   "metadata": {},
   "outputs": [],
   "source": [
    "%matplotlib inline\n",
    "import numpy \n",
    "import pandas\n",
    "\n",
    "from surprise import Dataset, Reader, accuracy\n",
    "from surprise import SVD, BaselineOnly, KNNBasic\n",
    "from surprise.model_selection import cross_validate, train_test_split"
   ]
  },
  {
   "cell_type": "code",
   "execution_count": 2,
   "metadata": {},
   "outputs": [
    {
     "name": "stderr",
     "output_type": "stream",
     "text": [
      "/home/shrvnchndra/Jupyter/lib/python3.8/site-packages/pandas/io/parsers.py:755: ParserWarning: Falling back to the 'python' engine because the 'c' engine does not support regex separators (separators > 1 char and different from '\\s+' are interpreted as regex); you can avoid this warning by specifying engine='python'.\n",
      "  return read_csv(**locals())\n"
     ]
    }
   ],
   "source": [
    "ratings_data = pandas.read_table('ml-1m/ratings.dat', sep = '::', names = ['user_id', 'movie_id', 'rating', 'time'])"
   ]
  },
  {
   "cell_type": "code",
   "execution_count": 3,
   "metadata": {},
   "outputs": [
    {
     "name": "stdout",
     "output_type": "stream",
     "text": [
      "   user_id  movie_id  rating       time\n",
      "0        1      1193       5  978300760\n",
      "1        1       661       3  978302109\n",
      "2        1       914       3  978301968\n",
      "3        1      3408       4  978300275\n",
      "4        1      2355       5  978824291\n"
     ]
    }
   ],
   "source": [
    "print(ratings_data.head())"
   ]
  },
  {
   "cell_type": "code",
   "execution_count": 4,
   "metadata": {},
   "outputs": [],
   "source": [
    "movie_data = ratings_data[['user_id', 'movie_id', 'rating']]\n",
    "reader = Reader(line_format='user item rating', sep = ',')\n",
    "movie_data = Dataset.load_from_df(movie_data, reader=reader)"
   ]
  },
  {
   "cell_type": "code",
   "execution_count": 5,
   "metadata": {},
   "outputs": [],
   "source": [
    "training_set, testing_set = train_test_split(movie_data, test_size=0.2)"
   ]
  },
  {
   "cell_type": "markdown",
   "metadata": {},
   "source": [
    "Using SGD"
   ]
  },
  {
   "cell_type": "code",
   "execution_count": 6,
   "metadata": {},
   "outputs": [
    {
     "name": "stdout",
     "output_type": "stream",
     "text": [
      "Estimating biases using sgd...\n",
      "Estimating biases using sgd...\n",
      "Estimating biases using sgd...\n",
      "Estimating biases using sgd...\n",
      "Evaluating RMSE, MAE of algorithm BaselineOnly on 4 split(s).\n",
      "\n",
      "                  Fold 1  Fold 2  Fold 3  Fold 4  Mean    Std     \n",
      "RMSE (testset)    0.9140  0.9133  0.9144  0.9115  0.9133  0.0011  \n",
      "MAE (testset)     0.7247  0.7235  0.7247  0.7227  0.7239  0.0009  \n",
      "Fit time          5.10    5.77    5.79    5.65    5.58    0.28    \n",
      "Test time         1.60    2.55    2.57    2.55    2.32    0.42    \n"
     ]
    },
    {
     "data": {
      "text/plain": [
       "{'test_rmse': array([0.9140353 , 0.91326707, 0.91437977, 0.9115154 ]),\n",
       " 'test_mae': array([0.72470027, 0.72352706, 0.72472232, 0.72266963]),\n",
       " 'fit_time': (5.097360372543335,\n",
       "  5.770519495010376,\n",
       "  5.794794321060181,\n",
       "  5.645847320556641),\n",
       " 'test_time': (1.599212646484375,\n",
       "  2.5527093410491943,\n",
       "  2.5704715251922607,\n",
       "  2.551476240158081)}"
      ]
     },
     "execution_count": 6,
     "metadata": {},
     "output_type": "execute_result"
    }
   ],
   "source": [
    "baseline_options = {'method' : 'sgd', 'learning_rate': 0.001}\n",
    "algorithm = BaselineOnly(bsl_options=baseline_options)\n",
    "cross_validate(algorithm, movie_data, measures=['RMSE', 'MAE'], cv=4, verbose=True)"
   ]
  },
  {
   "cell_type": "code",
   "execution_count": 7,
   "metadata": {},
   "outputs": [
    {
     "name": "stdout",
     "output_type": "stream",
     "text": [
      "Estimating biases using sgd...\n",
      "RMSE: 0.9119\n"
     ]
    },
    {
     "data": {
      "text/plain": [
       "0.9119431263461393"
      ]
     },
     "execution_count": 7,
     "metadata": {},
     "output_type": "execute_result"
    }
   ],
   "source": [
    "algorithm.fit(training_set)\n",
    "predictions = algorithm.test(testing_set)\n",
    "accuracy.rmse(predictions)"
   ]
  },
  {
   "cell_type": "markdown",
   "metadata": {},
   "source": [
    "Using ALS"
   ]
  },
  {
   "cell_type": "code",
   "execution_count": 8,
   "metadata": {},
   "outputs": [
    {
     "name": "stdout",
     "output_type": "stream",
     "text": [
      "Estimating biases using als...\n",
      "Computing the pearson_baseline similarity matrix...\n",
      "Done computing similarity matrix.\n",
      "Estimating biases using als...\n",
      "Computing the pearson_baseline similarity matrix...\n",
      "Done computing similarity matrix.\n",
      "Estimating biases using als...\n",
      "Computing the pearson_baseline similarity matrix...\n",
      "Done computing similarity matrix.\n",
      "Estimating biases using als...\n",
      "Computing the pearson_baseline similarity matrix...\n",
      "Done computing similarity matrix.\n",
      "Evaluating RMSE, MAE of algorithm KNNBasic on 4 split(s).\n",
      "\n",
      "                  Fold 1  Fold 2  Fold 3  Fold 4  Mean    Std     \n",
      "RMSE (testset)    0.9307  0.9296  0.9300  0.9296  0.9300  0.0004  \n",
      "MAE (testset)     0.7403  0.7397  0.7399  0.7386  0.7396  0.0006  \n",
      "Fit time          64.14   64.73   65.29   65.88   65.01   0.65    \n",
      "Test time         144.19  143.42  142.36  142.88  143.22  0.68    \n"
     ]
    },
    {
     "data": {
      "text/plain": [
       "{'test_rmse': array([0.93068408, 0.92959469, 0.93001881, 0.9295874 ]),\n",
       " 'test_mae': array([0.74034448, 0.73972784, 0.73989412, 0.73863138]),\n",
       " 'fit_time': (64.14145874977112,\n",
       "  64.73085975646973,\n",
       "  65.29405641555786,\n",
       "  65.87912058830261),\n",
       " 'test_time': (144.1949439048767,\n",
       "  143.42399096488953,\n",
       "  142.36009001731873,\n",
       "  142.88420248031616)}"
      ]
     },
     "execution_count": 8,
     "metadata": {},
     "output_type": "execute_result"
    }
   ],
   "source": [
    "baseline_options = {'method' : 'als', 'learning_rate': 16}\n",
    "similarity_options = {'name': 'pearson_baseline'}\n",
    "algorithm = KNNBasic(bsl_options=baseline_options, sim_options=similarity_options)\n",
    "cross_validate(algorithm, movie_data, measures=['RMSE', 'MAE'], cv=4, verbose=True)"
   ]
  },
  {
   "cell_type": "code",
   "execution_count": 9,
   "metadata": {},
   "outputs": [
    {
     "name": "stdout",
     "output_type": "stream",
     "text": [
      "Estimating biases using als...\n",
      "Computing the pearson_baseline similarity matrix...\n",
      "Done computing similarity matrix.\n",
      "RMSE: 0.9260\n"
     ]
    },
    {
     "data": {
      "text/plain": [
       "0.9260466800891254"
      ]
     },
     "execution_count": 9,
     "metadata": {},
     "output_type": "execute_result"
    }
   ],
   "source": [
    "algorithm.fit(training_set)\n",
    "predictions = algorithm.test(testing_set)\n",
    "accuracy.rmse(predictions)"
   ]
  },
  {
   "cell_type": "markdown",
   "metadata": {},
   "source": [
    "Using SVD"
   ]
  },
  {
   "cell_type": "code",
   "execution_count": 10,
   "metadata": {},
   "outputs": [
    {
     "name": "stdout",
     "output_type": "stream",
     "text": [
      "Evaluating RMSE, MAE of algorithm SVD on 4 split(s).\n",
      "\n",
      "                  Fold 1  Fold 2  Fold 3  Fold 4  Mean    Std     \n",
      "RMSE (testset)    0.8771  0.8793  0.8766  0.8776  0.8776  0.0010  \n",
      "MAE (testset)     0.6890  0.6905  0.6884  0.6891  0.6892  0.0008  \n",
      "Fit time          49.10   49.14   47.96   48.91   48.78   0.48    \n",
      "Test time         2.92    2.78    2.79    2.84    2.83    0.06    \n"
     ]
    },
    {
     "data": {
      "text/plain": [
       "{'test_rmse': array([0.87712951, 0.87929278, 0.87660288, 0.87755486]),\n",
       " 'test_mae': array([0.68900749, 0.690501  , 0.68835565, 0.6890917 ]),\n",
       " 'fit_time': (49.09730887413025,\n",
       "  49.140267848968506,\n",
       "  47.960280895233154,\n",
       "  48.906163930892944),\n",
       " 'test_time': (2.921950101852417,\n",
       "  2.7793517112731934,\n",
       "  2.789134979248047,\n",
       "  2.838862895965576)}"
      ]
     },
     "execution_count": 10,
     "metadata": {},
     "output_type": "execute_result"
    }
   ],
   "source": [
    "algorithm = SVD()\n",
    "cross_validate(algorithm, movie_data, measures=['RMSE', 'MAE'], cv=4, verbose=True)"
   ]
  },
  {
   "cell_type": "code",
   "execution_count": 12,
   "metadata": {},
   "outputs": [
    {
     "name": "stdout",
     "output_type": "stream",
     "text": [
      "RMSE: 0.8733\n"
     ]
    },
    {
     "data": {
      "text/plain": [
       "0.8732707293213283"
      ]
     },
     "execution_count": 12,
     "metadata": {},
     "output_type": "execute_result"
    }
   ],
   "source": [
    "algorithm.fit(training_set)\n",
    "predictions = algorithm.test(testing_set)\n",
    "accuracy.rmse(predictions)"
   ]
  },
  {
   "cell_type": "code",
   "execution_count": null,
   "metadata": {},
   "outputs": [],
   "source": []
  }
 ],
 "metadata": {
  "kernelspec": {
   "display_name": "Python 3",
   "language": "python",
   "name": "python3"
  },
  "language_info": {
   "codemirror_mode": {
    "name": "ipython",
    "version": 3
   },
   "file_extension": ".py",
   "mimetype": "text/x-python",
   "name": "python",
   "nbconvert_exporter": "python",
   "pygments_lexer": "ipython3",
   "version": "3.8.2"
  }
 },
 "nbformat": 4,
 "nbformat_minor": 4
}
