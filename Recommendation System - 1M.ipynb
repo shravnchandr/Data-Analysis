{
 "cells": [
  {
   "cell_type": "markdown",
   "metadata": {},
   "source": [
    "Importing Libraries"
   ]
  },
  {
   "cell_type": "code",
   "execution_count": 1,
   "metadata": {},
   "outputs": [],
   "source": [
    "%matplotlib inline\n",
    "import numpy \n",
    "import pandas\n",
    "import matplotlib.pyplot as plt\n",
    "import scipy.stats as stats\n",
    "import pylab\n",
    "\n",
    "import collections\n",
    "from collections import Counter\n",
    "\n",
    "from surprise import Dataset, Reader\n",
    "from surprise import SVD, accuracy\n",
    "from surprise.model_selection import cross_validate, train_test_split"
   ]
  },
  {
   "cell_type": "markdown",
   "metadata": {},
   "source": [
    "Getting dataset from grouplens (grouplens.org). The one being used here is the 1M dataset."
   ]
  },
  {
   "cell_type": "code",
   "execution_count": 2,
   "metadata": {},
   "outputs": [
    {
     "name": "stderr",
     "output_type": "stream",
     "text": [
      "/home/shrvnchndra/Jupyter/lib/python3.8/site-packages/pandas/io/parsers.py:755: ParserWarning: Falling back to the 'python' engine because the 'c' engine does not support regex separators (separators > 1 char and different from '\\s+' are interpreted as regex); you can avoid this warning by specifying engine='python'.\n",
      "  return read_csv(**locals())\n"
     ]
    }
   ],
   "source": [
    "movie_data = pandas.read_table('ml-1m/movies.dat', sep = '::', names = ['movie_id', 'movie', 'genre'])\n",
    "users_data = pandas.read_table('ml-1m/users.dat', sep = '::', names = ['user_id', 'gender', 'age', 'occupation', 'zipcode'])\n",
    "ratings_data = pandas.read_table('ml-1m/ratings.dat', sep = '::', names = ['user_id', 'movie_id', 'rating', 'time'])"
   ]
  },
  {
   "cell_type": "code",
   "execution_count": 3,
   "metadata": {},
   "outputs": [
    {
     "name": "stdout",
     "output_type": "stream",
     "text": [
      "   movie_id                               movie                         genre\n",
      "0         1                    Toy Story (1995)   Animation|Children's|Comedy\n",
      "1         2                      Jumanji (1995)  Adventure|Children's|Fantasy\n",
      "2         3             Grumpier Old Men (1995)                Comedy|Romance\n",
      "3         4            Waiting to Exhale (1995)                  Comedy|Drama\n",
      "4         5  Father of the Bride Part II (1995)                        Comedy\n",
      "   user_id gender  age  occupation zipcode\n",
      "0        1      F    1          10   48067\n",
      "1        2      M   56          16   70072\n",
      "2        3      M   25          15   55117\n",
      "3        4      M   45           7   02460\n",
      "4        5      M   25          20   55455\n",
      "   user_id  movie_id  rating       time\n",
      "0        1      1193       5  978300760\n",
      "1        1       661       3  978302109\n",
      "2        1       914       3  978301968\n",
      "3        1      3408       4  978300275\n",
      "4        1      2355       5  978824291\n"
     ]
    }
   ],
   "source": [
    "print(movie_data.head())\n",
    "print(users_data.head())\n",
    "print(ratings_data.head())"
   ]
  },
  {
   "cell_type": "code",
   "execution_count": null,
   "metadata": {},
   "outputs": [],
   "source": []
  },
  {
   "cell_type": "markdown",
   "metadata": {},
   "source": [
    "Since the year of release is combined with the movie name, we need to extract the year of release. So, we use the split function, and then create separate columns for name and year."
   ]
  },
  {
   "cell_type": "code",
   "execution_count": 4,
   "metadata": {},
   "outputs": [],
   "source": [
    "movie = movie_data.movie.str.split(pat='(', expand=True, n=1)\n",
    "movie_name = movie.iloc[:,0]\n",
    "movie_year = movie.iloc[:,1].str.split(pat=')', expand=True, n=1).iloc[:,0]\n",
    "\n",
    "movie_data.drop(['movie'], axis=1, inplace=True)\n",
    "movie_data['movie_name'] = movie_name\n",
    "movie_data['movie_year'] = movie_year"
   ]
  },
  {
   "cell_type": "code",
   "execution_count": null,
   "metadata": {},
   "outputs": [],
   "source": []
  },
  {
   "cell_type": "markdown",
   "metadata": {},
   "source": [
    "Since the genre is separated by '|', we use the same split function to split the genres and make them into a list."
   ]
  },
  {
   "cell_type": "code",
   "execution_count": 5,
   "metadata": {},
   "outputs": [],
   "source": [
    "new_genre = []\n",
    "for string in movie_data.genre:\n",
    "    new_genre.append(string.split('|'))\n",
    "movie_data['genre'] = new_genre"
   ]
  },
  {
   "cell_type": "code",
   "execution_count": 6,
   "metadata": {},
   "outputs": [
    {
     "name": "stdout",
     "output_type": "stream",
     "text": [
      "   movie_id                             genre                    movie_name  \\\n",
      "0         1   [Animation, Children's, Comedy]                    Toy Story    \n",
      "1         2  [Adventure, Children's, Fantasy]                      Jumanji    \n",
      "2         3                 [Comedy, Romance]             Grumpier Old Men    \n",
      "3         4                   [Comedy, Drama]            Waiting to Exhale    \n",
      "4         5                          [Comedy]  Father of the Bride Part II    \n",
      "\n",
      "  movie_year  \n",
      "0       1995  \n",
      "1       1995  \n",
      "2       1995  \n",
      "3       1995  \n",
      "4       1995  \n",
      "   user_id gender  age  occupation zipcode\n",
      "0        1      F    1          10   48067\n",
      "1        2      M   56          16   70072\n",
      "2        3      M   25          15   55117\n",
      "3        4      M   45           7   02460\n",
      "4        5      M   25          20   55455\n",
      "   user_id  movie_id  rating       time\n",
      "0        1      1193       5  978300760\n",
      "1        1       661       3  978302109\n",
      "2        1       914       3  978301968\n",
      "3        1      3408       4  978300275\n",
      "4        1      2355       5  978824291\n"
     ]
    }
   ],
   "source": [
    "print(movie_data.head())\n",
    "print(users_data.head())\n",
    "print(ratings_data.head())"
   ]
  },
  {
   "cell_type": "code",
   "execution_count": null,
   "metadata": {},
   "outputs": [],
   "source": []
  },
  {
   "cell_type": "markdown",
   "metadata": {},
   "source": [
    "Movie Rating Distribution - We shall look into, how the movies has been rated, i.e. the frequency of the ratings."
   ]
  },
  {
   "cell_type": "code",
   "execution_count": 7,
   "metadata": {},
   "outputs": [
    {
     "data": {
      "text/plain": [
       "4    348971\n",
       "3    261197\n",
       "5    226310\n",
       "2    107557\n",
       "1     56174\n",
       "Name: rating, dtype: int64"
      ]
     },
     "execution_count": 7,
     "metadata": {},
     "output_type": "execute_result"
    }
   ],
   "source": [
    "movie_ratings = ratings_data['rating'].value_counts()\n",
    "movie_ratings"
   ]
  },
  {
   "cell_type": "code",
   "execution_count": 8,
   "metadata": {},
   "outputs": [],
   "source": [
    "all_movie_ratings = ratings_data['rating']\n",
    "all_movie_ratings = sorted(all_movie_ratings)"
   ]
  },
  {
   "cell_type": "code",
   "execution_count": 9,
   "metadata": {},
   "outputs": [
    {
     "data": {
      "image/png": "[encoded data removed]",
      "text/plain": [
       "<Figure size 432x288 with 1 Axes>"
      ]
     },
     "metadata": {
      "needs_background": "light"
     },
     "output_type": "display_data"
    }
   ],
   "source": [
    "fit = stats.norm.pdf(all_movie_ratings, numpy.mean(all_movie_ratings), numpy.std(all_movie_ratings))\n",
    "pylab.plot(all_movie_ratings, fit, '-ko')\n",
    "pylab.hist(all_movie_ratings, density=True, color= 'black', fill = False)\n",
    "pylab.xlabel(\"Rating\")\n",
    "pylab.ylabel(\"Frequency of Ratings\")\n",
    "pylab.title(\"Distribution of Ratings\")\n",
    "pylab.show()"
   ]
  },
  {
   "cell_type": "markdown",
   "metadata": {},
   "source": [
    "Plotting without normalizing the frequencies."
   ]
  },
  {
   "cell_type": "code",
   "execution_count": 10,
   "metadata": {
    "scrolled": true
   },
   "outputs": [
    {
     "data": {
      "image/png": "[encoded data removed]",
      "text/plain": [
       "<Figure size 432x288 with 1 Axes>"
      ]
     },
     "metadata": {
      "needs_background": "light"
     },
     "output_type": "display_data"
    }
   ],
   "source": [
    "ratings_sorted = sorted(list(zip(movie_ratings.index, movie_ratings)))\n",
    "plt.bar([rating[0] for rating in ratings_sorted],\n",
    "        [rating[1] for rating in ratings_sorted],\n",
    "        color = 'black')\n",
    "plt.xlabel(\"Rating\")\n",
    "plt.ylabel(\"Frequency of Ratings\")\n",
    "plt.title(\"Distribution of Ratings\")\n",
    "\n",
    "for index in range(len(ratings_sorted)):\n",
    "     plt.hlines(ratings_sorted[index][1],0,ratings_sorted[index][0])\n",
    "    \n",
    "plt.show()"
   ]
  },
  {
   "cell_type": "code",
   "execution_count": null,
   "metadata": {},
   "outputs": [],
   "source": []
  },
  {
   "cell_type": "markdown",
   "metadata": {},
   "source": [
    "Analysis of Frequency of Genre"
   ]
  },
  {
   "cell_type": "code",
   "execution_count": 11,
   "metadata": {},
   "outputs": [
    {
     "data": {
      "text/plain": [
       "OrderedDict([('Action', 503),\n",
       "             ('Adventure', 283),\n",
       "             ('Animation', 105),\n",
       "             (\"Children's\", 251),\n",
       "             ('Comedy', 1200),\n",
       "             ('Crime', 211),\n",
       "             ('Documentary', 127),\n",
       "             ('Drama', 1603),\n",
       "             ('Fantasy', 68),\n",
       "             ('Film-Noir', 44),\n",
       "             ('Horror', 343),\n",
       "             ('Musical', 114),\n",
       "             ('Mystery', 106),\n",
       "             ('Romance', 471),\n",
       "             ('Sci-Fi', 276),\n",
       "             ('Thriller', 492),\n",
       "             ('War', 143),\n",
       "             ('Western', 68)])"
      ]
     },
     "execution_count": 11,
     "metadata": {},
     "output_type": "execute_result"
    }
   ],
   "source": [
    "new_genre = movie_data.genre\n",
    "new_genre = [item for array in new_genre for item in array]\n",
    "genre_count = collections.OrderedDict(sorted(Counter(new_genre).items()))\n",
    "genre_count"
   ]
  },
  {
   "cell_type": "code",
   "execution_count": 12,
   "metadata": {},
   "outputs": [],
   "source": [
    "genre_list = list(genre_count.keys())\n",
    "genre_list_count = list(genre_count.values())"
   ]
  },
  {
   "cell_type": "code",
   "execution_count": 13,
   "metadata": {},
   "outputs": [
    {
     "data": {
      "image/png": "[encoded data removed]",
      "text/plain": [
       "<Figure size 432x288 with 1 Axes>"
      ]
     },
     "metadata": {
      "needs_background": "light"
     },
     "output_type": "display_data"
    }
   ],
   "source": [
    "plt.bar([genre for genre in genre_list],\n",
    "        [count for count in genre_list_count],\n",
    "        color = 'black')\n",
    "plt.xlabel(\"Genre\")\n",
    "plt.ylabel(\"Frequency of Genre\")\n",
    "plt.title(\"Count of Genre\")\n",
    "plt.show()"
   ]
  },
  {
   "cell_type": "code",
   "execution_count": null,
   "metadata": {},
   "outputs": [],
   "source": []
  },
  {
   "cell_type": "markdown",
   "metadata": {},
   "source": [
    "Analsis of Frequency of User Reviews"
   ]
  },
  {
   "cell_type": "code",
   "execution_count": 14,
   "metadata": {
    "scrolled": true
   },
   "outputs": [
    {
     "name": "stdout",
     "output_type": "stream",
     "text": [
      "Number of users:  6040\n",
      "Average Number of Reviews per User:  165.5975165562914\n"
     ]
    }
   ],
   "source": [
    "print(\"Number of users: \", ratings_data.user_id.nunique()) \n",
    "print(\"Average Number of Reviews per User: \", ratings_data.shape[0]/ratings_data.user_id.nunique())"
   ]
  },
  {
   "cell_type": "code",
   "execution_count": 15,
   "metadata": {},
   "outputs": [],
   "source": [
    "ratings_per_user = ratings_data['user_id'].value_counts()\n",
    "ratings_per_user = sorted(list(zip(ratings_per_user.index, ratings_per_user)))\n",
    "# ratings_per_user"
   ]
  },
  {
   "cell_type": "code",
   "execution_count": 16,
   "metadata": {
    "scrolled": true
   },
   "outputs": [
    {
     "data": {
      "image/png": "[encoded data removed]",
      "text/plain": [
       "<Figure size 432x288 with 1 Axes>"
      ]
     },
     "metadata": {
      "needs_background": "light"
     },
     "output_type": "display_data"
    }
   ],
   "source": [
    "plt.bar([rating[0] for rating in ratings_per_user],\n",
    "        [rating[1] for rating in ratings_per_user],\n",
    "        color = 'black')\n",
    "plt.xlabel(\"User IDs\")\n",
    "plt.ylim(top=1000)\n",
    "plt.ylabel(\"Frequency of Reviews\")\n",
    "plt.title(\"Number of Reviews per User\")\n",
    "plt.show()"
   ]
  },
  {
   "cell_type": "code",
   "execution_count": 17,
   "metadata": {},
   "outputs": [],
   "source": [
    "user_ratings = [ratings[1] for ratings in ratings_per_user]\n",
    "user_ratings_sorted = sorted(Counter(user_ratings).items())"
   ]
  },
  {
   "cell_type": "code",
   "execution_count": 18,
   "metadata": {
    "scrolled": true
   },
   "outputs": [
    {
     "data": {
      "image/png": "[encoded data removed]",
      "text/plain": [
       "<Figure size 432x288 with 1 Axes>"
      ]
     },
     "metadata": {
      "needs_background": "light"
     },
     "output_type": "display_data"
    }
   ],
   "source": [
    "plt.bar([ratings[0] for ratings in user_ratings_sorted][:-1],\n",
    "        [ratings[1] for ratings in user_ratings_sorted][:-1],\n",
    "        color = 'black')\n",
    "plt.xlabel(\"Number of Users\")\n",
    "plt.xlim(left = 0, right=750)\n",
    "plt.ylabel(\"Frequency of Reviews\")\n",
    "plt.title(\"Distribution of Review Frequency per User\")\n",
    "plt.show()"
   ]
  },
  {
   "cell_type": "code",
   "execution_count": null,
   "metadata": {},
   "outputs": [],
   "source": []
  },
  {
   "cell_type": "markdown",
   "metadata": {},
   "source": [
    "Analysis of Genre based on Age and Gender - Depending on the age and gender, analysis shall be done to see, what kinda genre is preferred."
   ]
  },
  {
   "cell_type": "code",
   "execution_count": null,
   "metadata": {},
   "outputs": [],
   "source": []
  },
  {
   "cell_type": "markdown",
   "metadata": {},
   "source": [
    "First, data has to be extracted from users data, for female and male. Age is extracted from this."
   ]
  },
  {
   "cell_type": "code",
   "execution_count": 19,
   "metadata": {},
   "outputs": [],
   "source": [
    "female_data = users_data.loc[users_data['gender'] == 'F', ['user_id', 'age']]\n",
    "male_data = users_data.loc[users_data['gender'] == 'M', ['user_id', 'age']]"
   ]
  },
  {
   "cell_type": "markdown",
   "metadata": {},
   "source": [
    "Next, the extracted data will be merged with ratings data, on user id. Movies id is extracted."
   ]
  },
  {
   "cell_type": "code",
   "execution_count": 20,
   "metadata": {},
   "outputs": [],
   "source": [
    "female_data = (female_data.merge(ratings_data, left_on='user_id', right_on='user_id')\n",
    "               .reindex(columns=['age', 'user_id', 'movie_id']))\n",
    "male_data = (male_data.merge(ratings_data, left_on='user_id', right_on='user_id')\n",
    "               .reindex(columns=['age', 'user_id', 'movie_id']))"
   ]
  },
  {
   "cell_type": "markdown",
   "metadata": {},
   "source": [
    "The newly formed data in now merged with movies data on movie id. Here, the genres are extracted. And then, user id and movie id is dropped since it is not required anymore."
   ]
  },
  {
   "cell_type": "code",
   "execution_count": 21,
   "metadata": {},
   "outputs": [],
   "source": [
    "female_data = (female_data.merge(movie_data, left_on='movie_id', right_on='movie_id')\n",
    "               .reindex(columns=['age', 'user_id', 'movie_id', 'genre']))\n",
    "male_data = (male_data.merge(movie_data, left_on='movie_id', right_on='movie_id')\n",
    "               .reindex(columns=['age', 'user_id', 'movie_id', 'genre']))"
   ]
  },
  {
   "cell_type": "code",
   "execution_count": 22,
   "metadata": {},
   "outputs": [],
   "source": [
    "female_data.drop(['user_id', 'movie_id'], axis=1, inplace=True)\n",
    "male_data.drop(['user_id', 'movie_id'], axis=1, inplace=True)"
   ]
  },
  {
   "cell_type": "markdown",
   "metadata": {},
   "source": [
    "Now, the data has to be grouped by age, since that's the criteria on which we are analysing the data. First it is grouped using groupby function. This creates a list of list for the genres. To flatten it put, we use a for loop."
   ]
  },
  {
   "cell_type": "code",
   "execution_count": 23,
   "metadata": {},
   "outputs": [],
   "source": [
    "female_genre_data = female_data.groupby('age').agg(lambda x: x.tolist())\n",
    "male_genre_data = male_data.groupby('age').agg(lambda x: x.tolist())\n",
    "\n",
    "female_genre = female_genre_data.genre\n",
    "genreArray = []\n",
    "female_genre_counter = []\n",
    "for array in female_genre:\n",
    "    tempArray = [item for arr in array for item in arr]\n",
    "    genreArray.append(tempArray)\n",
    "    female_genre_counter.append(Counter(tempArray))\n",
    "female_genre_data['genre'] = genreArray\n",
    "\n",
    "male_genre = male_genre_data.genre\n",
    "genreArray = []\n",
    "male_genre_counter = []\n",
    "for array in male_genre:\n",
    "    tempArray = [item for arr in array for item in arr]\n",
    "    genreArray.append(tempArray)\n",
    "    male_genre_counter.append(Counter(tempArray))\n",
    "male_genre_data['genre'] = genreArray"
   ]
  },
  {
   "cell_type": "code",
   "execution_count": 24,
   "metadata": {},
   "outputs": [],
   "source": [
    "female_genre_data.reset_index(drop=False, inplace=True)\n",
    "male_genre_data.reset_index(drop=False, inplace=True)"
   ]
  },
  {
   "cell_type": "code",
   "execution_count": 25,
   "metadata": {},
   "outputs": [
    {
     "name": "stdout",
     "output_type": "stream",
     "text": [
      "   age                                              genre\n",
      "0    1  [Drama, Drama, Drama, Drama, Drama, Drama, Dra...\n",
      "1   18  [Drama, Drama, Drama, Drama, Drama, Drama, Dra...\n",
      "2   25  [Drama, Drama, Drama, Drama, Drama, Drama, Dra...\n",
      "3   35  [Drama, Drama, Drama, Drama, Drama, Drama, Dra...\n",
      "4   45  [Drama, Drama, Drama, Drama, Drama, Drama, Dra...\n",
      "5   50  [Drama, Drama, Drama, Drama, Drama, Drama, Dra...\n",
      "6   56  [Drama, Drama, Drama, Drama, Drama, Drama, Dra...\n",
      "   age                                              genre\n",
      "0    1  [Drama, Romance, Drama, Romance, Drama, Romanc...\n",
      "1   18  [Drama, Romance, Drama, Romance, Drama, Romanc...\n",
      "2   25  [Drama, Romance, Drama, Romance, Drama, Romanc...\n",
      "3   35  [Drama, Romance, Drama, Romance, Drama, Romanc...\n",
      "4   45  [Drama, Romance, Drama, Romance, Drama, Romanc...\n",
      "5   50  [Drama, Romance, Drama, Romance, Drama, Romanc...\n",
      "6   56  [Drama, Romance, Drama, Romance, Drama, Romanc...\n"
     ]
    }
   ],
   "source": [
    "print(female_genre_data)\n",
    "print(male_genre_data)"
   ]
  },
  {
   "cell_type": "markdown",
   "metadata": {},
   "source": [
    "To count the occurence of each genre for each age group, Counter from the collections library is used, and then it is sorted alphabetically."
   ]
  },
  {
   "cell_type": "code",
   "execution_count": 26,
   "metadata": {},
   "outputs": [],
   "source": [
    "tempArray = []\n",
    "for arrays in female_genre_data['genre']:\n",
    "    tempArray.append(collections.OrderedDict(sorted(Counter(arrays).items())))\n",
    "female_genre_data['genre'] = tempArray\n",
    "\n",
    "tempArray = []\n",
    "for arrays in male_genre_data['genre']:\n",
    "    tempArray.append(collections.OrderedDict(sorted(Counter(arrays).items())))\n",
    "male_genre_data['genre'] = tempArray"
   ]
  },
  {
   "cell_type": "code",
   "execution_count": 27,
   "metadata": {},
   "outputs": [
    {
     "name": "stdout",
     "output_type": "stream",
     "text": [
      "   age                                              genre\n",
      "0    1  {'Action': 1343, 'Adventure': 1230, 'Animation...\n",
      "1   18  {'Action': 8593, 'Adventure': 5430, 'Animation...\n",
      "2   25  {'Action': 17147, 'Adventure': 9597, 'Animatio...\n",
      "3   35  {'Action': 9706, 'Adventure': 5865, 'Animation...\n",
      "4   45  {'Action': 4608, 'Adventure': 2648, 'Animation...\n",
      "5   50  {'Action': 2993, 'Adventure': 1754, 'Animation...\n",
      "6   56  {'Action': 1260, 'Adventure': 808, 'Animation'...\n",
      "   age                                              genre\n",
      "0    1  {'Action': 5235, 'Adventure': 2768, 'Animation...\n",
      "1   18  {'Action': 41593, 'Adventure': 20894, 'Animati...\n",
      "2   25  {'Action': 88531, 'Adventure': 43036, 'Animati...\n",
      "3   35  {'Action': 40797, 'Adventure': 20817, 'Animati...\n",
      "4   45  {'Action': 14749, 'Adventure': 8090, 'Animatio...\n",
      "5   50  {'Action': 14019, 'Adventure': 7336, 'Animatio...\n",
      "6   56  {'Action': 6883, 'Adventure': 3680, 'Animation...\n"
     ]
    }
   ],
   "source": [
    "print(female_genre_data)\n",
    "print(male_genre_data)"
   ]
  },
  {
   "cell_type": "markdown",
   "metadata": {},
   "source": [
    "Distinct age and genre is now taken into a list, which will be used for plotting and also can be useful for other data analysis. And later, count of each genre, is extracted into a matrix of (len(ages) x len(genres)), for plotting."
   ]
  },
  {
   "cell_type": "code",
   "execution_count": 28,
   "metadata": {},
   "outputs": [],
   "source": [
    "ages = list(female_genre_data['age'])\n",
    "genres = list(male_genre_data.iloc[1,1].keys())\n",
    "\n",
    "female_genre_counts = [list(dictionary.values()) for dictionary in female_genre_data['genre']]\n",
    "male_genre_counts = [list(dictionary.values()) for dictionary in male_genre_data['genre']]"
   ]
  },
  {
   "cell_type": "code",
   "execution_count": 29,
   "metadata": {},
   "outputs": [
    {
     "name": "stdout",
     "output_type": "stream",
     "text": [
      "[1, 18, 25, 35, 45, 50, 56]\n",
      "['Action', 'Adventure', 'Animation', \"Children's\", 'Comedy', 'Crime', 'Documentary', 'Drama', 'Fantasy', 'Film-Noir', 'Horror', 'Musical', 'Mystery', 'Romance', 'Sci-Fi', 'Thriller', 'War', 'Western']\n"
     ]
    }
   ],
   "source": [
    "print(ages)\n",
    "print(genres)"
   ]
  },
  {
   "cell_type": "code",
   "execution_count": 30,
   "metadata": {},
   "outputs": [
    {
     "data": {
      "image/png": "[encoded data removed]",
      "text/plain": [
       "<Figure size 432x288 with 2 Axes>"
      ]
     },
     "metadata": {
      "needs_background": "light"
     },
     "output_type": "display_data"
    }
   ],
   "source": [
    "x = numpy.array([i for i in range(len(genres))])\n",
    "y = numpy.array([i for i in range(len(ages))])\n",
    "\n",
    "figure, (ax0, ax1) = plt.subplots(2, 1)\n",
    "\n",
    "xyz = ax0.pcolor(female_genre_counts, cmap='YlOrRd', edgecolors='k', linewidth=0.5)\n",
    "ax0.set_title(\"Genres prefered by Females, varying by age\")\n",
    "\n",
    "plt.sca(ax0)\n",
    "plt.xticks(range(len(genres)), genres)\n",
    "plt.yticks(range(len(ages)), ages)\n",
    "\n",
    "xyz = ax1.pcolor(male_genre_counts, cmap='YlOrRd', edgecolors='k', linewidth=0.5)\n",
    "ax1.set_title(\"Genres prefered by Males, varying by age\")\n",
    "\n",
    "plt.sca(ax1)\n",
    "plt.xticks(range(len(genres)), genres)\n",
    "plt.yticks(range(len(ages)), ages)\n",
    "\n",
    "plt.show()"
   ]
  },
  {
   "cell_type": "code",
   "execution_count": null,
   "metadata": {},
   "outputs": [],
   "source": []
  },
  {
   "cell_type": "markdown",
   "metadata": {},
   "source": [
    "Analysis of Ratings of different Genres by, different Age and Gender group."
   ]
  },
  {
   "cell_type": "code",
   "execution_count": null,
   "metadata": {},
   "outputs": [],
   "source": []
  },
  {
   "cell_type": "markdown",
   "metadata": {},
   "source": [
    "Similar to earlier analysis, first the data of female and male are extracted from user data, with their age."
   ]
  },
  {
   "cell_type": "code",
   "execution_count": 31,
   "metadata": {},
   "outputs": [],
   "source": [
    "female_data = users_data.loc[users_data['gender'] == 'F', ['user_id', 'age']]\n",
    "male_data = users_data.loc[users_data['gender'] == 'M', ['user_id', 'age']]"
   ]
  },
  {
   "cell_type": "markdown",
   "metadata": {},
   "source": [
    "Now, the data is merged with ratings data to get movie id, as well as the ratings given."
   ]
  },
  {
   "cell_type": "code",
   "execution_count": 32,
   "metadata": {},
   "outputs": [],
   "source": [
    "female_data = (female_data.merge(ratings_data, left_on='user_id', right_on='user_id')\n",
    "               .reindex(columns=['age', 'user_id', 'movie_id', 'rating']))\n",
    "male_data = (male_data.merge(ratings_data, left_on='user_id', right_on='user_id')\n",
    "               .reindex(columns=['age', 'user_id', 'movie_id', 'rating']))"
   ]
  },
  {
   "cell_type": "markdown",
   "metadata": {},
   "source": [
    "Just like before, the data is now merged with movies data to get the genre list. And then user id and movie id is dropped."
   ]
  },
  {
   "cell_type": "code",
   "execution_count": 33,
   "metadata": {},
   "outputs": [],
   "source": [
    "female_data = (female_data.merge(movie_data, left_on='movie_id', right_on='movie_id')\n",
    "               .reindex(columns=['age', 'user_id', 'movie_id', 'genre', 'rating']))\n",
    "male_data = (male_data.merge(movie_data, left_on='movie_id', right_on='movie_id')\n",
    "               .reindex(columns=['age', 'user_id', 'movie_id', 'genre', 'rating']))"
   ]
  },
  {
   "cell_type": "code",
   "execution_count": 34,
   "metadata": {},
   "outputs": [],
   "source": [
    "female_data.drop(['user_id', 'movie_id'], axis=1, inplace=True)\n",
    "male_data.drop(['user_id', 'movie_id'], axis=1, inplace=True)"
   ]
  },
  {
   "cell_type": "markdown",
   "metadata": {},
   "source": [
    "Again, the data is grouped by age for the analysis."
   ]
  },
  {
   "cell_type": "code",
   "execution_count": 35,
   "metadata": {},
   "outputs": [],
   "source": [
    "female_genre_data = female_data.groupby('age').agg(lambda x: x.tolist())\n",
    "male_genre_data = male_data.groupby('age').agg(lambda x: x.tolist())"
   ]
  },
  {
   "cell_type": "code",
   "execution_count": 36,
   "metadata": {},
   "outputs": [
    {
     "name": "stdout",
     "output_type": "stream",
     "text": [
      "                                                 genre  \\\n",
      "age                                                      \n",
      "1    [[Drama], [Drama], [Drama], [Drama], [Drama], ...   \n",
      "18   [[Drama], [Drama], [Drama], [Drama], [Drama], ...   \n",
      "25   [[Drama], [Drama], [Drama], [Drama], [Drama], ...   \n",
      "35   [[Drama], [Drama], [Drama], [Drama], [Drama], ...   \n",
      "45   [[Drama], [Drama], [Drama], [Drama], [Drama], ...   \n",
      "50   [[Drama], [Drama], [Drama], [Drama], [Drama], ...   \n",
      "56   [[Drama], [Drama], [Drama], [Drama], [Drama], ...   \n",
      "\n",
      "                                                rating  \n",
      "age                                                     \n",
      "1    [5, 2, 5, 5, 4, 3, 3, 4, 4, 3, 3, 5, 1, 4, 2, ...  \n",
      "18   [4, 4, 4, 4, 2, 5, 4, 3, 4, 5, 5, 5, 3, 4, 4, ...  \n",
      "25   [5, 3, 5, 3, 4, 4, 5, 3, 5, 4, 5, 5, 5, 5, 3, ...  \n",
      "35   [4, 4, 4, 5, 5, 4, 4, 4, 5, 4, 4, 4, 4, 4, 4, ...  \n",
      "45   [5, 4, 3, 4, 4, 4, 5, 4, 5, 4, 5, 5, 5, 5, 5, ...  \n",
      "50   [4, 4, 5, 5, 5, 1, 5, 5, 4, 4, 5, 5, 4, 5, 5, ...  \n",
      "56   [5, 3, 5, 4, 5, 5, 3, 5, 5, 5, 5, 5, 5, 5, 3, ...  \n",
      "                                                 genre  \\\n",
      "age                                                      \n",
      "1    [[Drama, Romance], [Drama, Romance], [Drama, R...   \n",
      "18   [[Drama, Romance], [Drama, Romance], [Drama, R...   \n",
      "25   [[Drama, Romance], [Drama, Romance], [Drama, R...   \n",
      "35   [[Drama, Romance], [Drama, Romance], [Drama, R...   \n",
      "45   [[Drama, Romance], [Drama, Romance], [Drama, R...   \n",
      "50   [[Drama, Romance], [Drama, Romance], [Drama, R...   \n",
      "56   [[Drama, Romance], [Drama, Romance], [Drama, R...   \n",
      "\n",
      "                                                rating  \n",
      "age                                                     \n",
      "1    [5, 5, 5, 5, 2, 4, 4, 4, 3, 1, 4, 5, 4, 4, 4, ...  \n",
      "18   [4, 5, 5, 4, 4, 4, 4, 5, 4, 4, 3, 4, 4, 4, 4, ...  \n",
      "25   [4, 4, 4, 2, 3, 3, 5, 4, 4, 5, 3, 3, 5, 4, 4, ...  \n",
      "35   [4, 4, 2, 3, 5, 4, 5, 5, 4, 3, 4, 4, 3, 4, 4, ...  \n",
      "45   [4, 5, 4, 3, 4, 2, 3, 5, 3, 3, 5, 4, 4, 3, 3, ...  \n",
      "50   [4, 5, 4, 4, 4, 4, 3, 4, 4, 3, 2, 3, 3, 2, 5, ...  \n",
      "56   [5, 4, 3, 3, 3, 2, 5, 5, 2, 2, 4, 5, 5, 4, 4, ...  \n"
     ]
    }
   ],
   "source": [
    "print(female_genre_data)\n",
    "print(male_genre_data)"
   ]
  },
  {
   "cell_type": "markdown",
   "metadata": {},
   "source": [
    "As shown above, most of the job is done. Now, the task left is to map genre with its ratings. Since to access genre, the path is genre -> list for a age -> another list -> genre data, we need 3 for loops to access them. This is not at all efficient for larger datasets, and will look into better methods. For now, this should get the job done. So all the ratings for each age group's genre is appended to a list, and then averaged."
   ]
  },
  {
   "cell_type": "code",
   "execution_count": 37,
   "metadata": {},
   "outputs": [],
   "source": [
    "female_genre_ratings = {age: {key: [] for key in genres} for age in ages}\n",
    "for age in ages:\n",
    "    for genre, rating in zip(female_genre_data.loc[age, 'genre'], female_genre_data.loc[age, 'rating']):\n",
    "        for indi_genre in genre:\n",
    "            female_genre_ratings[age][indi_genre].append(rating)            \n",
    "for age in ages:\n",
    "    for genre in genres:\n",
    "        female_genre_ratings[age][genre] = round(sum(female_genre_ratings[age][genre]) / len(female_genre_ratings[age][genre]),1)\n",
    "\n",
    "male_genre_ratings = {age: {key: [] for key in genres} for age in ages}\n",
    "for age in ages:\n",
    "    for genre, rating in zip(male_genre_data.loc[age, 'genre'], male_genre_data.loc[age, 'rating']):\n",
    "        for indi_genre in genre:\n",
    "            male_genre_ratings[age][indi_genre].append(rating)\n",
    "for age in ages:\n",
    "    for genre in genres:\n",
    "        male_genre_ratings[age][genre] = round(sum(male_genre_ratings[age][genre]) / len(male_genre_ratings[age][genre]), 1)"
   ]
  },
  {
   "cell_type": "markdown",
   "metadata": {},
   "source": [
    "Data has to be in matrix for pcolor to work. So, data is put into a matrix form."
   ]
  },
  {
   "cell_type": "code",
   "execution_count": 38,
   "metadata": {},
   "outputs": [],
   "source": [
    "female_ratings = []\n",
    "for age in ages:\n",
    "    female_ratings.append(list(female_genre_ratings[age].values()))\n",
    "    \n",
    "male_ratings = []\n",
    "for age in ages:\n",
    "    male_ratings.append(list(male_genre_ratings[age].values()))"
   ]
  },
  {
   "cell_type": "code",
   "execution_count": 39,
   "metadata": {},
   "outputs": [
    {
     "data": {
      "image/png": "[encoded data removed]",
      "text/plain": [
       "<Figure size 432x288 with 2 Axes>"
      ]
     },
     "metadata": {
      "needs_background": "light"
     },
     "output_type": "display_data"
    }
   ],
   "source": [
    "figure, (ax0, ax1) = plt.subplots(2, 1)\n",
    "\n",
    "xyz = ax0.pcolor(female_ratings, cmap='YlOrRd', edgecolors='k', linewidth=0.5)\n",
    "ax0.set_title(\"Ratings of different Genres by Females, varying by age\")\n",
    "\n",
    "plt.sca(ax0)\n",
    "plt.xticks(range(len(genres)), genres)\n",
    "plt.yticks(range(len(ages)), ages)\n",
    "\n",
    "xyz = ax1.pcolor(male_ratings, cmap='YlOrRd', edgecolors='k', linewidth=0.5)\n",
    "ax1.set_title(\"Ratings of different Genres by Males, varying by age\")\n",
    "\n",
    "plt.sca(ax1)\n",
    "plt.xticks(range(len(genres)), genres)\n",
    "plt.yticks(range(len(ages)), ages)\n",
    "\n",
    "plt.show()"
   ]
  },
  {
   "cell_type": "code",
   "execution_count": null,
   "metadata": {},
   "outputs": [],
   "source": []
  }
 ],
 "metadata": {
  "kernelspec": {
   "display_name": "Python 3",
   "language": "python",
   "name": "python3"
  },
  "language_info": {
   "codemirror_mode": {
    "name": "ipython",
    "version": 3
   },
   "file_extension": ".py",
   "mimetype": "text/x-python",
   "name": "python",
   "nbconvert_exporter": "python",
   "pygments_lexer": "ipython3",
   "version": "3.8.2"
  }
 },
 "nbformat": 4,
 "nbformat_minor": 4
}
